{
 "cells": [
  {
   "cell_type": "code",
   "execution_count": null,
   "id": "569d29d4",
   "metadata": {
    "vscode": {
     "languageId": "plaintext"
    }
   },
   "outputs": [],
   "source": [
    "import pandas as pd\n",
    "import matplotlib.pyplot as plt\n",
    "\n",
    "df = pd.read_csv('../data/sales.csv', parse_dates=['date'])\n",
    "df.set_index('date', inplace=True)\n",
    "df = df[df['product_id'] == 101]  # Analyze one product first\n",
    "\n",
    "df['units_sold'].plot(figsize=(12, 5), title='Daily Demand')\n",
    "plt.show()\n"
   ]
  }
 ],
 "metadata": {
  "language_info": {
   "name": "python"
  }
 },
 "nbformat": 4,
 "nbformat_minor": 5
}
